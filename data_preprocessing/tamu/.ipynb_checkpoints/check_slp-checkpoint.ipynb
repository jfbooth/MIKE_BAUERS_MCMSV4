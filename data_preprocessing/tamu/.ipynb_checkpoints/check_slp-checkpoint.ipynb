{
 "cells": [
  {
   "cell_type": "code",
   "execution_count": 8,
   "metadata": {},
   "outputs": [],
   "source": [
    "import numpy as np \n",
    "import matplotlib.pyplot as plt\n",
    "\n",
    "import xarray as xr\n",
    "import os\n",
    "import pandas as pd"
   ]
  },
  {
   "cell_type": "code",
   "execution_count": 12,
   "metadata": {},
   "outputs": [],
   "source": [
    "file1 = '/localdrive/drive6/tamu/converts/slp.1950.nc'\n",
    "file2 = '/localdrive/drive6/tamu/converts/slp.1951.nc'\n",
    "file3 = '/localdrive/drive6/tamu/converts/slp.1952.nc'\n",
    "file4 = '/localdrive/drive6/tamu/converts/slp.1953.nc'"
   ]
  },
  {
   "cell_type": "code",
   "execution_count": 14,
   "metadata": {},
   "outputs": [
    {
     "name": "stdout",
     "output_type": "stream",
     "text": [
      "from 1951-01-01 00:00:00 to 1951-12-31 18:00:00: 1460\n"
     ]
    }
   ],
   "source": [
    "ds = xr.open_dataset(file2)\n",
    "\n",
    "time = [pd.to_datetime(i) for i in ds.time.values]\n",
    "print(f'from {time[0]} to {time[-1]}: {len(time)} steps.')"
   ]
  },
  {
   "cell_type": "code",
   "execution_count": null,
   "metadata": {},
   "outputs": [],
   "source": []
  }
 ],
 "metadata": {
  "kernelspec": {
   "display_name": "Python [conda env:mcms] *",
   "language": "python",
   "name": "conda-env-mcms-py"
  },
  "language_info": {
   "codemirror_mode": {
    "name": "ipython",
    "version": 3
   },
   "file_extension": ".py",
   "mimetype": "text/x-python",
   "name": "python",
   "nbconvert_exporter": "python",
   "pygments_lexer": "ipython3",
   "version": "3.6.8"
  }
 },
 "nbformat": 4,
 "nbformat_minor": 4
}
