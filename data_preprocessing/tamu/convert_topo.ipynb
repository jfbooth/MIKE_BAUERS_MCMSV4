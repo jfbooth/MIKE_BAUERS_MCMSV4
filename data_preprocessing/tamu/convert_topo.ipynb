{
 "cells": [
  {
   "cell_type": "code",
   "execution_count": null,
   "metadata": {},
   "outputs": [],
   "source": [
    "import numpy as np \n",
    "import matplotlib.pyplot as plt\n",
    "import xarray as xr\n",
    "\n",
    "from netCDF4 import Dataset\n",
    "import os, glob"
   ]
  },
  {
   "cell_type": "code",
   "execution_count": null,
   "metadata": {},
   "outputs": [],
   "source": [
    "# checking the era interim invariants to see if they are the same size as this dataset\n",
    "erai_file = '/localdrive/drive6/erai/converts/invariants.nc'\n",
    "erai_ds = xr.open_dataset(erai_file)\n",
    "erai_hgt = erai_ds.isel(time=0).hgt.values\n",
    "erai_lsm = erai_ds.isel(time=0).lsm.values\n",
    "erai_ds.close()\n",
    "print(erai_lsm.shape, erai_hgt.shape)\n",
    "\n",
    "# sample SLP file to get the proper time\n",
    "slp_file = '/localdrive/drive9/TAMU/slp_tamu_1950.nc'\n",
    " \n",
    "ds = xr.open_dataset(slp_file)\n",
    "ds = ds.isel(time=0)\n",
    "slp_lat = ds.lat.values\n",
    "slp_lon = ds.lon.values\n",
    "slp = ds.slp.values\n",
    "start_time = ds.time.values\n",
    "ds.close()\n",
    "\n",
    "print(time)\n"
   ]
  },
  {
   "cell_type": "code",
   "execution_count": null,
   "metadata": {},
   "outputs": [],
   "source": [
    "in_file = '/localdrive/drive9/TAMU/sample_hght_wrong_lat.nc'\n",
    "out_file = '/localdrive/drive6/tamu/converts/invariants.nc'\n",
    "\n",
    "orig_ds = xr.open_dataset(in_file)\n",
    "\n",
    "# copying over the dataset values\n",
    "ds = orig_ds.copy()\n",
    "\n",
    "# getting the dataset values for the provided single time step\n",
    "ds = ds.isel(time=0)\n",
    "lat = ds.lat.values\n",
    "lon = ds.lon.values\n",
    "hgt = ds.hgt.values\n",
    "ds.close()\n",
    "\n",
    "# flipping the hgt and lat\n",
    "out_lat = np.flipud(lat)\n",
    "\n",
    "out_hgt = np.zeros((1, hgt.shape[0], hgt.shape[1]))\n",
    "## either use the ERA-Interim height or the height from TAMU dataset\n",
    "out_hgt[0, :, :] = np.flipud(hgt)\n",
    "# out_hgt[0, :, :] = np.flipud(erai_hgt)\n",
    "\n",
    "orig_ds['lat'] = out_lat\n",
    "for key in ds.lat.attrs: \n",
    "    orig_ds['lat'].attrs[key] = ds.lat.attrs[key]\n",
    "    \n",
    "orig_ds['hgt'] = (['time', 'lat', 'lon'], out_hgt)\n",
    "for key in ds.hgt.attrs: \n",
    "    orig_ds['hgt'].attrs[key] = ds.hgt.attrs[key]\n",
    "    \n",
    "    \n",
    "out_lsm = np.zeros((1, hgt.shape[0], hgt.shape[1]))\n",
    "out_lsm[0, :, :] = np.flipud(erai_lsm)\n",
    "orig_ds['lsm'] = (['time', 'lat', 'lon'], out_lsm)\n",
    "orig_ds['lsm'].attrs['standard_name'] = 'land_binary_mask'\n",
    "orig_ds['lsm'].attrs['long_name'] = 'Land-sea Mask'\n",
    "orig_ds['lsm'].attrs['units'] = '(0 - 1)'\n",
    "\n",
    "orig_ds.to_netcdf(out_file)\n",
    "\n",
    "# orig_ds.lsm.plot()\n",
    "# orig_ds.hgt.plot()\n",
    "\n",
    "# plt.figure()\n",
    "# plt.pcolormesh(lon, lat, out_lsm[0, :, :])\n",
    "# plt.colorbar()\n",
    "# plt.show()"
   ]
  },
  {
   "cell_type": "code",
   "execution_count": null,
   "metadata": {},
   "outputs": [],
   "source": [
    "print(ds.lat.attrs)\n",
    "\n",
    "for key in ds.lat.attrs: \n",
    "    orig_ds['lat'].attrs[key] = ds.lat.attrs[key]\n",
    "\n",
    "print(orig_ds.lat)"
   ]
  },
  {
   "cell_type": "code",
   "execution_count": null,
   "metadata": {},
   "outputs": [],
   "source": []
  },
  {
   "cell_type": "code",
   "execution_count": null,
   "metadata": {},
   "outputs": [],
   "source": [
    "slp_file = '/localdrive/drive9/TAMU/slp_tamu_1950.nc'\n",
    " \n",
    "ds = xr.open_dataset(slp_file)\n",
    "ds = ds.isel(time=0)\n",
    "slp_lat = ds.lat.values\n",
    "slp_lon = ds.lon.values\n",
    "slp = ds.slp.values\n",
    "ds.close()\n",
    "\n",
    "plt.figure()\n",
    "plt.pcolormesh(slp_lon, slp_lat, slp)\n",
    "plt.colorbar()\n",
    "plt.show()"
   ]
  },
  {
   "cell_type": "code",
   "execution_count": null,
   "metadata": {},
   "outputs": [],
   "source": []
  }
 ],
 "metadata": {
  "kernelspec": {
   "display_name": "Python [conda env:mcms] *",
   "language": "python",
   "name": "conda-env-mcms-py"
  },
  "language_info": {
   "codemirror_mode": {
    "name": "ipython",
    "version": 3
   },
   "file_extension": ".py",
   "mimetype": "text/x-python",
   "name": "python",
   "nbconvert_exporter": "python",
   "pygments_lexer": "ipython3",
   "version": "3.6.8"
  }
 },
 "nbformat": 4,
 "nbformat_minor": 4
}
